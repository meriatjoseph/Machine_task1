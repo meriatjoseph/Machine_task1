{
 "cells": [
  {
   "cell_type": "code",
   "execution_count": 1,
   "id": "4e3c474f-0148-46d5-9318-dea50b6017f1",
   "metadata": {},
   "outputs": [],
   "source": [
    "import numpy as np\n",
    "import matplotlib.pyplot as plt\n",
    "import pandas as pd\n",
    "import seaborn as sns"
   ]
  },
  {
   "cell_type": "code",
   "execution_count": 12,
   "id": "cdbde0ad-ce8c-4e9c-bbf1-3f3b7f55d7ea",
   "metadata": {},
   "outputs": [],
   "source": [
    "df1=pd.read_csv('train_FD002.txt')"
   ]
  },
  {
   "cell_type": "code",
   "execution_count": 13,
   "id": "27528a6a-1c43-4a80-a2a9-6172f23fe92c",
   "metadata": {},
   "outputs": [
    {
     "data": {
      "text/html": [
       "<div>\n",
       "<style scoped>\n",
       "    .dataframe tbody tr th:only-of-type {\n",
       "        vertical-align: middle;\n",
       "    }\n",
       "\n",
       "    .dataframe tbody tr th {\n",
       "        vertical-align: top;\n",
       "    }\n",
       "\n",
       "    .dataframe thead th {\n",
       "        text-align: right;\n",
       "    }\n",
       "</style>\n",
       "<table border=\"1\" class=\"dataframe\">\n",
       "  <thead>\n",
       "    <tr style=\"text-align: right;\">\n",
       "      <th></th>\n",
       "      <th>1 1 34.9983 0.8400 100.0 449.44 555.32 1358.61 1137.23 5.48 8.00 194.64 2222.65 8341.91 1.02 42.02 183.06 2387.72 8048.56 9.3461 0.02 334 2223 100.00 14.73 8.8071</th>\n",
       "    </tr>\n",
       "  </thead>\n",
       "  <tbody>\n",
       "    <tr>\n",
       "      <th>0</th>\n",
       "      <td>1 2 41.9982 0.8408 100.0 445.00 549.90 1353.22...</td>\n",
       "    </tr>\n",
       "    <tr>\n",
       "      <th>1</th>\n",
       "      <td>1 3 24.9988 0.6218 60.0 462.54 537.31 1256.76 ...</td>\n",
       "    </tr>\n",
       "    <tr>\n",
       "      <th>2</th>\n",
       "      <td>1 4 42.0077 0.8416 100.0 445.00 549.51 1354.03...</td>\n",
       "    </tr>\n",
       "    <tr>\n",
       "      <th>3</th>\n",
       "      <td>1 5 25.0005 0.6203 60.0 462.54 537.07 1257.71 ...</td>\n",
       "    </tr>\n",
       "    <tr>\n",
       "      <th>4</th>\n",
       "      <td>1 6 25.0045 0.6205 60.0 462.54 537.02 1266.38 ...</td>\n",
       "    </tr>\n",
       "    <tr>\n",
       "      <th>...</th>\n",
       "      <td>...</td>\n",
       "    </tr>\n",
       "    <tr>\n",
       "      <th>53753</th>\n",
       "      <td>260 312 20.0037 0.7000 100.0 491.19 608.79 149...</td>\n",
       "    </tr>\n",
       "    <tr>\n",
       "      <th>53754</th>\n",
       "      <td>260 313 10.0022 0.2510 100.0 489.05 605.81 151...</td>\n",
       "    </tr>\n",
       "    <tr>\n",
       "      <th>53755</th>\n",
       "      <td>260 314 25.0041 0.6200 60.0 462.54 537.48 1276...</td>\n",
       "    </tr>\n",
       "    <tr>\n",
       "      <th>53756</th>\n",
       "      <td>260 315 25.0033 0.6220 60.0 462.54 537.84 1272...</td>\n",
       "    </tr>\n",
       "    <tr>\n",
       "      <th>53757</th>\n",
       "      <td>260 316 35.0036 0.8400 100.0 449.44 556.64 137...</td>\n",
       "    </tr>\n",
       "  </tbody>\n",
       "</table>\n",
       "<p>53758 rows × 1 columns</p>\n",
       "</div>"
      ],
      "text/plain": [
       "      1 1 34.9983 0.8400 100.0 449.44 555.32 1358.61 1137.23 5.48 8.00 194.64 2222.65 8341.91 1.02 42.02 183.06 2387.72 8048.56 9.3461 0.02 334 2223 100.00 14.73 8.8071  \n",
       "0      1 2 41.9982 0.8408 100.0 445.00 549.90 1353.22...                                                                                                                  \n",
       "1      1 3 24.9988 0.6218 60.0 462.54 537.31 1256.76 ...                                                                                                                  \n",
       "2      1 4 42.0077 0.8416 100.0 445.00 549.51 1354.03...                                                                                                                  \n",
       "3      1 5 25.0005 0.6203 60.0 462.54 537.07 1257.71 ...                                                                                                                  \n",
       "4      1 6 25.0045 0.6205 60.0 462.54 537.02 1266.38 ...                                                                                                                  \n",
       "...                                                  ...                                                                                                                  \n",
       "53753  260 312 20.0037 0.7000 100.0 491.19 608.79 149...                                                                                                                  \n",
       "53754  260 313 10.0022 0.2510 100.0 489.05 605.81 151...                                                                                                                  \n",
       "53755  260 314 25.0041 0.6200 60.0 462.54 537.48 1276...                                                                                                                  \n",
       "53756  260 315 25.0033 0.6220 60.0 462.54 537.84 1272...                                                                                                                  \n",
       "53757  260 316 35.0036 0.8400 100.0 449.44 556.64 137...                                                                                                                  \n",
       "\n",
       "[53758 rows x 1 columns]"
      ]
     },
     "execution_count": 13,
     "metadata": {},
     "output_type": "execute_result"
    }
   ],
   "source": [
    "df1"
   ]
  },
  {
   "cell_type": "code",
   "execution_count": null,
   "id": "f5cb14f5-691d-4536-82f3-955ff110ba2e",
   "metadata": {},
   "outputs": [],
   "source": []
  }
 ],
 "metadata": {
  "kernelspec": {
   "display_name": "Python 3 (ipykernel)",
   "language": "python",
   "name": "python3"
  },
  "language_info": {
   "codemirror_mode": {
    "name": "ipython",
    "version": 3
   },
   "file_extension": ".py",
   "mimetype": "text/x-python",
   "name": "python",
   "nbconvert_exporter": "python",
   "pygments_lexer": "ipython3",
   "version": "3.12.5"
  }
 },
 "nbformat": 4,
 "nbformat_minor": 5
}
